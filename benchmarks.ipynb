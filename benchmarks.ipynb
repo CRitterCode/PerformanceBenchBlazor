{
 "cells": [
  {
   "cell_type": "markdown",
   "metadata": {},
   "source": [
    "# DATAIMPORT/ CLEANUP"
   ]
  },
  {
   "cell_type": "code",
   "execution_count": 7,
   "metadata": {},
   "outputs": [],
   "source": [
    "import os\n",
    "import pandas as pd\n",
    "import matplotlib.pyplot as plt\n",
    "import seaborn as sns\n",
    "import seaborn as sns\n",
    "import numpy as np\n",
    "import glob\n",
    "from sklearn.preprocessing import MinMaxScaler\n",
    "import scipy.stats as stats\n",
    "from scipy.stats import levene\n",
    "from itertools import pairwise\n",
    "from summarytools import dfSummary\n",
    "\n"
   ]
  },
  {
   "cell_type": "code",
   "execution_count": 8,
   "metadata": {},
   "outputs": [],
   "source": [
    "path = r\"C:\\Users\\cr\\Downloads\"\n",
    "\n",
    "dfAll = pd.DataFrame()\n",
    "for version in range(7):\n",
    "    pattern = os.path.join(path, f\"Version{version}_*{\"1_1_true\"}.txt\")\n",
    "    files = glob.glob(pattern)\n",
    "\n",
    "    for file in files:\n",
    "        df = pd.read_csv(file, header=0, names=[\"ObjInstance\", \"Identifier\", \"MethodName\", \"ElapsedMilliseconds\"])\n",
    "        df[\"Version\"] = f\"Version{version}\"\n",
    "        df = df.loc[df.groupby([\"ObjInstance\", \"MethodName\"])[\"ElapsedMilliseconds\"].idxmax()]\n",
    "        dfAll = pd.concat([dfAll, df], ignore_index=True)\n",
    "\n",
    "output_path = os.path.join(r\"D:\\projects\\private\\Bachelorarbeit_Blazor_Wasm\\BenchmarkResults\", \"dfAll_1_1_true.csv\")\n",
    "dfAll.to_csv(output_path, index=False, encoding=\"utf-8\")\n"
   ]
  },
  {
   "cell_type": "code",
   "execution_count": 9,
   "metadata": {},
   "outputs": [
    {
     "data": {
      "text/html": [
       "<div>\n",
       "<style scoped>\n",
       "    .dataframe tbody tr th:only-of-type {\n",
       "        vertical-align: middle;\n",
       "    }\n",
       "\n",
       "    .dataframe tbody tr th {\n",
       "        vertical-align: top;\n",
       "    }\n",
       "\n",
       "    .dataframe thead th {\n",
       "        text-align: right;\n",
       "    }\n",
       "</style>\n",
       "<table border=\"1\" class=\"dataframe\">\n",
       "  <thead>\n",
       "    <tr style=\"text-align: right;\">\n",
       "      <th></th>\n",
       "    </tr>\n",
       "  </thead>\n",
       "  <tbody>\n",
       "  </tbody>\n",
       "</table>\n",
       "</div>"
      ],
      "text/plain": [
       "Empty DataFrame\n",
       "Columns: []\n",
       "Index: []"
      ]
     },
     "execution_count": 9,
     "metadata": {},
     "output_type": "execute_result"
    }
   ],
   "source": [
    "dfAll.head()"
   ]
  },
  {
   "cell_type": "code",
   "execution_count": 10,
   "metadata": {},
   "outputs": [
    {
     "ename": "KeyError",
     "evalue": "['ElapsedMilliseconds']",
     "output_type": "error",
     "traceback": [
      "\u001b[1;31m---------------------------------------------------------------------------\u001b[0m",
      "\u001b[1;31mKeyError\u001b[0m                                  Traceback (most recent call last)",
      "\u001b[1;32m~\\AppData\\Local\\Temp\\ipykernel_14464\\112715811.py\u001b[0m in \u001b[0;36m?\u001b[1;34m()\u001b[0m\n\u001b[1;32m----> 1\u001b[1;33m \u001b[0mdfAll\u001b[0m \u001b[1;33m=\u001b[0m \u001b[0mdfAll\u001b[0m\u001b[1;33m.\u001b[0m\u001b[0mdropna\u001b[0m\u001b[1;33m(\u001b[0m\u001b[0msubset\u001b[0m\u001b[1;33m=\u001b[0m\u001b[1;33m[\u001b[0m\u001b[1;34m\"ElapsedMilliseconds\"\u001b[0m\u001b[1;33m]\u001b[0m\u001b[1;33m)\u001b[0m\u001b[1;33m\u001b[0m\u001b[1;33m\u001b[0m\u001b[0m\n\u001b[0m\u001b[0;32m      2\u001b[0m \u001b[0mdfAll\u001b[0m \u001b[1;33m=\u001b[0m \u001b[0mdfAll\u001b[0m\u001b[1;33m.\u001b[0m\u001b[0mdrop_duplicates\u001b[0m\u001b[1;33m(\u001b[0m\u001b[0msubset\u001b[0m\u001b[1;33m=\u001b[0m\u001b[1;33m[\u001b[0m\u001b[1;34m\"ObjInstance\"\u001b[0m\u001b[1;33m,\u001b[0m \u001b[1;34m\"Identifier\"\u001b[0m\u001b[1;33m,\u001b[0m \u001b[1;34m\"MethodName\"\u001b[0m\u001b[1;33m,\u001b[0m \u001b[1;34m\"ElapsedMilliseconds\"\u001b[0m\u001b[1;33m]\u001b[0m\u001b[1;33m)\u001b[0m\u001b[1;33m\u001b[0m\u001b[1;33m\u001b[0m\u001b[0m\n\u001b[0;32m      3\u001b[0m \u001b[1;33m\u001b[0m\u001b[0m\n\u001b[0;32m      4\u001b[0m \u001b[0mdfAll\u001b[0m\u001b[1;33m[\u001b[0m\u001b[1;34m\"ElapsedMilliseconds\"\u001b[0m\u001b[1;33m]\u001b[0m \u001b[1;33m=\u001b[0m \u001b[0mpd\u001b[0m\u001b[1;33m.\u001b[0m\u001b[0mto_numeric\u001b[0m\u001b[1;33m(\u001b[0m\u001b[0mdfAll\u001b[0m\u001b[1;33m[\u001b[0m\u001b[1;34m\"ElapsedMilliseconds\"\u001b[0m\u001b[1;33m]\u001b[0m\u001b[1;33m)\u001b[0m\u001b[1;33m\u001b[0m\u001b[1;33m\u001b[0m\u001b[0m\n",
      "\u001b[1;32mc:\\Python312\\Lib\\site-packages\\pandas\\core\\frame.py\u001b[0m in \u001b[0;36m?\u001b[1;34m(self, axis, how, thresh, subset, inplace, ignore_index)\u001b[0m\n\u001b[0;32m   6666\u001b[0m             \u001b[0max\u001b[0m \u001b[1;33m=\u001b[0m \u001b[0mself\u001b[0m\u001b[1;33m.\u001b[0m\u001b[0m_get_axis\u001b[0m\u001b[1;33m(\u001b[0m\u001b[0magg_axis\u001b[0m\u001b[1;33m)\u001b[0m\u001b[1;33m\u001b[0m\u001b[1;33m\u001b[0m\u001b[0m\n\u001b[0;32m   6667\u001b[0m             \u001b[0mindices\u001b[0m \u001b[1;33m=\u001b[0m \u001b[0max\u001b[0m\u001b[1;33m.\u001b[0m\u001b[0mget_indexer_for\u001b[0m\u001b[1;33m(\u001b[0m\u001b[0msubset\u001b[0m\u001b[1;33m)\u001b[0m\u001b[1;33m\u001b[0m\u001b[1;33m\u001b[0m\u001b[0m\n\u001b[0;32m   6668\u001b[0m             \u001b[0mcheck\u001b[0m \u001b[1;33m=\u001b[0m \u001b[0mindices\u001b[0m \u001b[1;33m==\u001b[0m \u001b[1;33m-\u001b[0m\u001b[1;36m1\u001b[0m\u001b[1;33m\u001b[0m\u001b[1;33m\u001b[0m\u001b[0m\n\u001b[0;32m   6669\u001b[0m             \u001b[1;32mif\u001b[0m \u001b[0mcheck\u001b[0m\u001b[1;33m.\u001b[0m\u001b[0many\u001b[0m\u001b[1;33m(\u001b[0m\u001b[1;33m)\u001b[0m\u001b[1;33m:\u001b[0m\u001b[1;33m\u001b[0m\u001b[1;33m\u001b[0m\u001b[0m\n\u001b[1;32m-> 6670\u001b[1;33m                 \u001b[1;32mraise\u001b[0m \u001b[0mKeyError\u001b[0m\u001b[1;33m(\u001b[0m\u001b[0mnp\u001b[0m\u001b[1;33m.\u001b[0m\u001b[0marray\u001b[0m\u001b[1;33m(\u001b[0m\u001b[0msubset\u001b[0m\u001b[1;33m)\u001b[0m\u001b[1;33m[\u001b[0m\u001b[0mcheck\u001b[0m\u001b[1;33m]\u001b[0m\u001b[1;33m.\u001b[0m\u001b[0mtolist\u001b[0m\u001b[1;33m(\u001b[0m\u001b[1;33m)\u001b[0m\u001b[1;33m)\u001b[0m\u001b[1;33m\u001b[0m\u001b[1;33m\u001b[0m\u001b[0m\n\u001b[0m\u001b[0;32m   6671\u001b[0m             \u001b[0magg_obj\u001b[0m \u001b[1;33m=\u001b[0m \u001b[0mself\u001b[0m\u001b[1;33m.\u001b[0m\u001b[0mtake\u001b[0m\u001b[1;33m(\u001b[0m\u001b[0mindices\u001b[0m\u001b[1;33m,\u001b[0m \u001b[0maxis\u001b[0m\u001b[1;33m=\u001b[0m\u001b[0magg_axis\u001b[0m\u001b[1;33m)\u001b[0m\u001b[1;33m\u001b[0m\u001b[1;33m\u001b[0m\u001b[0m\n\u001b[0;32m   6672\u001b[0m \u001b[1;33m\u001b[0m\u001b[0m\n\u001b[0;32m   6673\u001b[0m         \u001b[1;32mif\u001b[0m \u001b[0mthresh\u001b[0m \u001b[1;32mis\u001b[0m \u001b[1;32mnot\u001b[0m \u001b[0mlib\u001b[0m\u001b[1;33m.\u001b[0m\u001b[0mno_default\u001b[0m\u001b[1;33m:\u001b[0m\u001b[1;33m\u001b[0m\u001b[1;33m\u001b[0m\u001b[0m\n",
      "\u001b[1;31mKeyError\u001b[0m: ['ElapsedMilliseconds']"
     ]
    }
   ],
   "source": [
    "dfAll = dfAll.dropna(subset=[\"ElapsedMilliseconds\"])\n",
    "dfAll = dfAll.drop_duplicates(subset=[\"ObjInstance\", \"Identifier\", \"MethodName\", \"ElapsedMilliseconds\"])\n",
    "\n",
    "dfAll[\"ElapsedMilliseconds\"] = pd.to_numeric(dfAll[\"ElapsedMilliseconds\"])\n",
    "dfAll = dfAll[dfAll[\"ElapsedMilliseconds\"] >= 0]\n",
    "\n",
    "#Reihenfolge für Plots\n",
    "custom_order = [\n",
    "    \"SetParam\",\n",
    "    \"SetParam_OnInit\",\n",
    "    \"GenerateOrders\",\n",
    "    \"PopulateChartOrderState\",\n",
    "    \"OnInit_OnParam\",\n",
    "    \"OnParam_OnAfterRender\",\n",
    "    \"VisualizeOrderStatusSuccess\",\n",
    "    \"FINISH\"\n",
    "]\n",
    "\n",
    "lifecycle = [\n",
    "    \"SetParam\",\n",
    "    \"SetParam_OnInit\",\n",
    "    \"OnInit_OnParam\",\n",
    "    \"OnParam_OnAfterRender\",\n",
    "    \"FINISH\"\n",
    "]\n",
    "\n",
    "\n",
    "dfAll[\"MethodName\"] = pd.Categorical(dfAll[\"MethodName\"], categories=custom_order, ordered=True)\n",
    "#Um das Gruppieren zum umgehen und bei Plots nach Version und Komponente zu unterscheiden\n",
    "dfAll[\"VersionObjInstance\"] = dfAll[\"Version\"].astype(str) + \" - \" + dfAll[\"ObjInstance\"].astype(str)\n",
    "\n",
    "dfLifecycle = dfAll[dfAll[\"MethodName\"].isin(lifecycle)]\n",
    "dfLifecycle[\"VersionObjInstance\"] = dfAll[\"Version\"].astype(str) + \" - \" + dfAll[\"ObjInstance\"].astype(str)\n",
    "\n",
    "\n"
   ]
  },
  {
   "cell_type": "markdown",
   "metadata": {},
   "source": [
    "# CHECK SIGNIFICANCE"
   ]
  },
  {
   "cell_type": "markdown",
   "metadata": {},
   "source": [
    "## PLOT"
   ]
  },
  {
   "cell_type": "code",
   "execution_count": null,
   "metadata": {},
   "outputs": [],
   "source": [
    "fig, (ax1, ax2, ax3) = plt.subplots(1, 3, figsize=(20, 8))\n",
    "\n",
    "sns.boxplot(data=dfAll, x=\"MethodName\", y=\"ElapsedMilliseconds\", hue=\"VersionObjInstance\", ax=ax1, legend=False)\n",
    "ax1.set_ylim(0, 30)\n",
    "\n",
    "sns.boxplot(data=dfAll, x=\"MethodName\", y=\"ElapsedMilliseconds\", hue=\"VersionObjInstance\", ax=ax2 , legend=False)\n",
    "ax2.set_ylim(60, 180)\n",
    "\n",
    "sns.boxplot(data=dfAll, x=\"MethodName\", y=\"ElapsedMilliseconds\", hue=\"VersionObjInstance\", ax=ax3)\n",
    "ax3.set_ylim(180, 300)\n",
    "\n",
    "for ax in [ax1, ax2, ax3]:\n",
    "    ax.set_xticklabels(ax.get_xticklabels(), rotation=90)\n",
    "    ax.set_xlabel(\"Methodenname\")\n",
    "    ax.set_ylabel(\"ElapsedMilliseconds\")\n",
    "\n",
    "plt.legend(title=\"Version+Komponenten\", bbox_to_anchor=(1.05, 0.5), loc=\"center left\")\n",
    "\n",
    "plt.tight_layout()\n",
    "plt.show()\n"
   ]
  },
  {
   "cell_type": "code",
   "execution_count": null,
   "metadata": {},
   "outputs": [],
   "source": [
    "#chatgpt\n",
    "def remove_outliers_grouped(df, value_col, group_cols, threshold=1.5):\n",
    "    def filter_group(group):\n",
    "        Q1 = group[value_col].quantile(0.25)\n",
    "        Q3 = group[value_col].quantile(0.75)\n",
    "        IQR = Q3 - Q1\n",
    "        lower_bound = Q1 - threshold * IQR\n",
    "        upper_bound = Q3 + threshold * IQR\n",
    "        return group[(group[value_col] >= lower_bound) & (group[value_col] <= upper_bound)]\n",
    "    \n",
    "    return df.groupby(group_cols, group_keys=False).apply(filter_group)\n",
    "\n",
    "dfAll = remove_outliers_grouped(dfAll, \"ElapsedMilliseconds\", [\"MethodName\", \"VersionObjInstance\"])\n"
   ]
  },
  {
   "cell_type": "code",
   "execution_count": null,
   "metadata": {},
   "outputs": [],
   "source": [
    "uniqueVersionObjInstances = dfAll[\"VersionObjInstance\"].unique()\n",
    "\n",
    "num_plots = len(uniqueVersionObjInstances)\n",
    "num_cols = 3  \n",
    "num_rows = (num_plots + num_cols - 1) // num_cols \n",
    "\n",
    "fig, axes = plt.subplots(num_rows, num_cols, figsize=(15, 5 * num_rows), sharey=True)\n",
    "axes = axes.flatten()  \n",
    "\n",
    "for i, VersionObjInstance in enumerate(uniqueVersionObjInstances):\n",
    "    ax = axes[i]\n",
    "    \n",
    "    sns.kdeplot(data=dfAll[dfAll[\"VersionObjInstance\"] == VersionObjInstance], \n",
    "                x=\"ElapsedMilliseconds\", \n",
    "                hue=\"MethodName\", \n",
    "                fill=True, \n",
    "                common_norm=False, \n",
    "                legend=True if i % 2 else False,\n",
    "                ax=ax)\n",
    "    ax.set_title(f\"{VersionObjInstance}\")\n",
    "    ax.set_xlabel(\"ElapsedMilliseconds\")\n",
    "    ax.set_ylabel(\"Dichte\")\n",
    "    ax.set_ylim(0, 0.2)\n",
    "\n",
    "plt.tight_layout()\n",
    "plt.show()\n",
    "\n"
   ]
  },
  {
   "cell_type": "code",
   "execution_count": null,
   "metadata": {},
   "outputs": [],
   "source": [
    "plt.figure(figsize=(12, 6))\n",
    "sns.stripplot(data=dfAll, x=\"MethodName\", y=\"ElapsedMilliseconds\", hue=\"VersionObjInstance\", dodge=True)\n",
    "plt.xticks(rotation=90)\n",
    "plt.title(\"Version+Komponenten nach ElapsedMilliseconds\")\n",
    "plt.show()"
   ]
  },
  {
   "cell_type": "markdown",
   "metadata": {},
   "source": [
    "## CALCULATION"
   ]
  },
  {
   "cell_type": "code",
   "execution_count": null,
   "metadata": {},
   "outputs": [],
   "source": [
    "uniqueVersionObjInstances = dfAll[\"VersionObjInstance\"].unique()\n",
    "uniqueMethods = dfAll[\"MethodName\"].unique()\n",
    "\n",
    "for version in uniqueVersionObjInstances:\n",
    "    versionObjIni = dfAll[dfAll[\"VersionObjInstance\"] == version]\n",
    "    \n",
    "    for method in uniqueMethods:\n",
    "        #Fehler, weil kindkomponente nur lifecyclemethoden hat\n",
    "        if (method not in lifecycle and (versionObjIni[\"ObjInstance\"] == \"BenchmarkComponent\").any()):\n",
    "            continue\n",
    "\n",
    "        data = versionObjIni[versionObjIni[\"MethodName\"] == method][\"ElapsedMilliseconds\"]\n",
    "\n",
    "        modeResult = stats.mode(data).mode\n",
    "        median = data.median()\n",
    "        mean = data.mean()\n",
    "        \n",
    "        skew = stats.skew(data)\n",
    "        #unbiased ddof\n",
    "        std = np.std(data, ddof=1) \n",
    "\n",
    "        if modeResult is not None:\n",
    "            stdPercent = std / mean\n",
    "            \n",
    "            if stdPercent > 0.1:\n",
    "                print(f\"{version}, Method: {method}; Mode: {modeResult}; Median: {median}; Std: {std:.2f}\")\n",
    "\n",
    "            #if abs(skew) > 0.1:\n",
    "                #print(f\"{version}; Method: {method}; Skew: {skew:.2f}\")\n"
   ]
  },
  {
   "cell_type": "markdown",
   "metadata": {},
   "source": []
  },
  {
   "cell_type": "code",
   "execution_count": null,
   "metadata": {},
   "outputs": [],
   "source": [
    "versions = [f\"Version{i}\" for i in range(7)]\n",
    "\n",
    "\n",
    "for version in uniqueVersionObjInstances:\n",
    "    for method in uniqueMethods:\n",
    "        print(f\"\\n{version} - Methode: {method}\")\n",
    "    \n",
    "        df_method = dfAll[dfAll[\"MethodName\"] == method]\n",
    "    \n",
    "        for version_a, version_b in pairwise(versions):\n",
    "            version_a_data = df_method[df_method[\"Version\"] == version_a][\"ElapsedMilliseconds\"]\n",
    "            version_b_data = df_method[df_method[\"Version\"] == version_b][\"ElapsedMilliseconds\"]\n",
    "        \n",
    "            t_stat, p_value = stats.ttest_ind(version_a_data, version_b_data, equal_var=False)\n",
    "            if p_value < 0.05:\n",
    "                print(f\"{version_b} und {version_a} welchs : t-statistic = {t_stat}, p-value = {p_value}\")\n",
    "        \n",
    "            u_stat, p_value_u = stats.mannwhitneyu(version_a_data, version_b_data)\n",
    "            if p_value_u < 0.05:\n",
    "                print(f\"{version_b} und {version_a} Mann : U-statistic = {u_stat}, p-value = {p_value_u}\")\n"
   ]
  },
  {
   "cell_type": "markdown",
   "metadata": {},
   "source": [
    "# DATA EXPLORATION"
   ]
  },
  {
   "cell_type": "code",
   "execution_count": null,
   "metadata": {},
   "outputs": [],
   "source": [
    "dfTilt = dfAll.pivot_table(\n",
    "    values=\"ElapsedMilliseconds\",\n",
    "    index=[\"MethodName\", \"ObjInstance\"],\n",
    "    columns=\"Version\",\n",
    "    aggfunc=np.median\n",
    ").sort_index(level=0)\n",
    "\n",
    "plt.figure(figsize=(12, 8))\n",
    "sns.heatmap(dfTilt, annot=True, fmt=\".0f\")\n",
    "\n",
    "plt.title(\"Auflistung Methodenmittelwert\")\n",
    "plt.xlabel(\"Versionen\")\n",
    "plt.ylabel(\"Methoden und Komponenten\")\n",
    "\n",
    "plt.tight_layout()\n",
    "plt.show()\n"
   ]
  },
  {
   "cell_type": "code",
   "execution_count": null,
   "metadata": {},
   "outputs": [],
   "source": [
    "df_pivot = dfAll.pivot_table(\n",
    "    values=\"ElapsedMilliseconds\",\n",
    "    index=[\"MethodName\", \"ObjInstance\"],\n",
    "    columns=\"Version\",\n",
    "    aggfunc=np.median\n",
    ").sort_index(level=0)\n",
    "\n",
    "df_diff = df_pivot.diff(axis=1).iloc[:, 1:]\n",
    "\n",
    "plt.figure(figsize=(12, 8))\n",
    "sns.heatmap(df_diff, annot=True, fmt=\".0f\", linewidths=0.5)\n",
    "\n",
    "plt.title(\"Differenz Mittelwert zur vorherigen Version\")\n",
    "plt.xlabel(\"Versionen\")\n",
    "plt.ylabel(\"Methoden und Komponenten\")\n",
    "\n",
    "plt.tight_layout()\n",
    "plt.show()\n"
   ]
  },
  {
   "cell_type": "code",
   "execution_count": null,
   "metadata": {},
   "outputs": [],
   "source": []
  },
  {
   "cell_type": "code",
   "execution_count": null,
   "metadata": {},
   "outputs": [],
   "source": []
  },
  {
   "cell_type": "code",
   "execution_count": null,
   "metadata": {},
   "outputs": [],
   "source": []
  }
 ],
 "metadata": {
  "kernelspec": {
   "display_name": "Python 3",
   "language": "python",
   "name": "python3"
  },
  "language_info": {
   "codemirror_mode": {
    "name": "ipython",
    "version": 3
   },
   "file_extension": ".py",
   "mimetype": "text/x-python",
   "name": "python",
   "nbconvert_exporter": "python",
   "pygments_lexer": "ipython3",
   "version": "3.12.0"
  }
 },
 "nbformat": 4,
 "nbformat_minor": 2
}
